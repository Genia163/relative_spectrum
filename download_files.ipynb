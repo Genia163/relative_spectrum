{
 "cells": [
  {
   "cell_type": "code",
   "execution_count": 13,
   "outputs": [
    {
     "data": {
      "text/plain": "'C:\\\\Users\\\\user\\\\DataSpellProjects\\\\relative_spectrum/Опыты от 18.02.23'"
     },
     "execution_count": 13,
     "metadata": {},
     "output_type": "execute_result"
    }
   ],
   "source": [
    "import pandas as pd\n",
    "import matplotlib.pyplot as plt\n",
    "import string\n",
    "import os\n",
    "exp_path = 'Опыты от 18.02.23'\n",
    "Path = os.getcwd()\n",
    "Path = f'{Path}/{exp_path}'\n",
    "Path"
   ],
   "metadata": {
    "collapsed": false,
    "pycharm": {
     "name": "#%%\n"
    }
   }
  },
  {
   "cell_type": "code",
   "execution_count": 16,
   "outputs": [],
   "source": [
    "def search_folder(path):\n",
    "    folders = []\n",
    "    for it in os.scandir(path):\n",
    "        if it.is_dir():\n",
    "            folders.append(it.path)\n",
    "    return folders\n",
    "\n",
    "def search_file_txt(path):\n",
    "    return os.listdir(path)\n",
    "\n",
    "def search_folder_exp(list_folfer_group):\n",
    "    folder_exp = []\n",
    "    for i in folder_group:\n",
    "        folder_exp.append(search_folder(i))\n",
    "    return folder_exp\n",
    "\n",
    "def import_signals(folder_exp):\n",
    "    channel_1 = pd.DataFrame()\n",
    "    channel_2 = pd.DataFrame()\n",
    "    list_names = ['channel', 'num_exp', '0','count_dot']+[i for i in range(0,2000)]\n",
    "    for i in range(0,len(folder_exp)):\n",
    "        print(i)\n",
    "        for j in range(0,len(folder_exp[i])):\n",
    "            txt_file = search_file_txt(folder_exp[i][j])\n",
    "            exp = pd.read_csv(folder_exp[i][j] + '/'+txt_file[-1], sep='\\t', encoding=\"UTF-16 LE\", header=None)\n",
    "            exp = exp[2]\n",
    "            count_signal_ch1 = 0\n",
    "            count_signal_ch2 = 0\n",
    "            for k in range(0,len(exp)):\n",
    "                df = pd.read_csv(folder_exp[i][j] + '/'+txt_file[k], sep='\\t', encoding=\"UTF-16 LE\", header=None)\n",
    "                df = df.T\n",
    "                name_exp = folder_exp[i][j].split('\\\\')\n",
    "                df.insert(0,'num_exp',name_exp[-1])\n",
    "                if exp[k]==1 and count_signal_ch1 <5:\n",
    "                    channel_1 = pd.concat([channel_1, df], axis=0)\n",
    "                    count_signal_ch1+=1\n",
    "                elif count_signal_ch2 <5:\n",
    "                    channel_2 = pd.concat([channel_2, df], axis=0)\n",
    "                    count_signal_ch2+=1\n",
    "    channel_1.insert(0,'channel','ch1')\n",
    "    channel_2.insert(0,'channel','ch2')\n",
    "    signal_data = pd.concat([channel_1,channel_2],axis=0)\n",
    "    signal_data.columns = list_names\n",
    "    signal_data = signal_data.drop(['0'],axis= 'columns')\n",
    "    return signal_data"
   ],
   "metadata": {
    "collapsed": false,
    "pycharm": {
     "name": "#%%\n"
    }
   }
  },
  {
   "cell_type": "code",
   "execution_count": 17,
   "outputs": [
    {
     "name": "stdout",
     "output_type": "stream",
     "text": [
      "0\n",
      "1\n",
      "2\n"
     ]
    }
   ],
   "source": [
    "folder_group = search_folder(Path)\n",
    "folder_exp = search_folder_exp(folder_group)\n",
    "signals_data = import_signals(folder_exp)\n"
   ],
   "metadata": {
    "collapsed": false,
    "pycharm": {
     "name": "#%%\n"
    }
   }
  },
  {
   "cell_type": "code",
   "execution_count": 18,
   "outputs": [
    {
     "data": {
      "text/plain": "   channel num_exp  count_dot      0     1      2      3      4      5      6  \\\n0      ch1   1_0,1     2000.0 -107.0 -55.0   38.0  -26.0 -124.0  -54.0   46.0   \n0      ch1   1_0,1     2000.0 -106.0 -28.0   64.0  -23.0 -119.0  -20.0   72.0   \n0      ch1   1_0,1     2000.0  103.0  74.0  -13.0   27.0  108.0   67.0  -20.0   \n0      ch1   1_0,1     2000.0  -92.0  -7.0   74.0  -20.0 -104.0    3.0   82.0   \n0      ch1   1_0,1     2000.0  -93.0 -66.0   18.0  -22.0 -110.0  -67.0   23.0   \n..     ...     ...        ...    ...   ...    ...    ...    ...    ...    ...   \n0      ch2     3_6     2000.0   50.0  85.0   78.0  136.0  352.0  523.0  257.0   \n0      ch2     3_6     2000.0   73.0  84.0   88.0  223.0  464.0  471.0  -45.0   \n0      ch2     3_6     2000.0   77.0  82.0   95.0  248.0  485.0  444.0 -121.0   \n0      ch2     3_6     2000.0   83.0  78.0  114.0  307.0  517.0  349.0 -316.0   \n0      ch2     3_6     2000.0   83.0  81.0   97.0  267.0  499.0  412.0 -199.0   \n\n    ...   1990   1991   1992   1993   1994   1995   1996   1997   1998   1999  \n0   ...  -53.0  -31.0  -31.0  -24.0  -19.0  -33.0  -50.0  -41.0  -16.0    1.0  \n0   ...  -51.0  -34.0  -31.0  -28.0  -27.0  -33.0  -41.0  -38.0  -21.0    4.0  \n0   ...  -28.0  -20.0  -13.0  -27.0  -41.0  -28.0   -8.0   -8.0   -9.0    9.0  \n0   ...  -49.0  -35.0  -29.0  -28.0  -29.0  -31.0  -31.0  -30.0  -18.0   10.0  \n0   ...  -54.0  -28.0  -29.0  -23.0  -15.0  -29.0  -49.0  -40.0  -14.0    0.0  \n..  ...    ...    ...    ...    ...    ...    ...    ...    ...    ...    ...  \n0   ...  151.0  638.0  594.0  191.0  112.0  418.0  448.0  -69.0 -511.0 -345.0  \n0   ...  423.0  701.0  411.0   89.0  240.0  498.0  241.0 -341.0 -505.0 -156.0  \n0   ...  483.0  694.0  362.0   82.0  277.0  497.0  172.0 -399.0 -488.0 -121.0  \n0   ...  592.0  647.0  257.0   95.0  366.0  468.0    8.0 -496.0 -414.0  -46.0  \n0   ...  549.0  677.0  301.0   81.0  329.0  492.0   83.0 -465.0 -460.0  -81.0  \n\n[300 rows x 2003 columns]",
      "text/html": "<div>\n<style scoped>\n    .dataframe tbody tr th:only-of-type {\n        vertical-align: middle;\n    }\n\n    .dataframe tbody tr th {\n        vertical-align: top;\n    }\n\n    .dataframe thead th {\n        text-align: right;\n    }\n</style>\n<table border=\"1\" class=\"dataframe\">\n  <thead>\n    <tr style=\"text-align: right;\">\n      <th></th>\n      <th>channel</th>\n      <th>num_exp</th>\n      <th>count_dot</th>\n      <th>0</th>\n      <th>1</th>\n      <th>2</th>\n      <th>3</th>\n      <th>4</th>\n      <th>5</th>\n      <th>6</th>\n      <th>...</th>\n      <th>1990</th>\n      <th>1991</th>\n      <th>1992</th>\n      <th>1993</th>\n      <th>1994</th>\n      <th>1995</th>\n      <th>1996</th>\n      <th>1997</th>\n      <th>1998</th>\n      <th>1999</th>\n    </tr>\n  </thead>\n  <tbody>\n    <tr>\n      <th>0</th>\n      <td>ch1</td>\n      <td>1_0,1</td>\n      <td>2000.0</td>\n      <td>-107.0</td>\n      <td>-55.0</td>\n      <td>38.0</td>\n      <td>-26.0</td>\n      <td>-124.0</td>\n      <td>-54.0</td>\n      <td>46.0</td>\n      <td>...</td>\n      <td>-53.0</td>\n      <td>-31.0</td>\n      <td>-31.0</td>\n      <td>-24.0</td>\n      <td>-19.0</td>\n      <td>-33.0</td>\n      <td>-50.0</td>\n      <td>-41.0</td>\n      <td>-16.0</td>\n      <td>1.0</td>\n    </tr>\n    <tr>\n      <th>0</th>\n      <td>ch1</td>\n      <td>1_0,1</td>\n      <td>2000.0</td>\n      <td>-106.0</td>\n      <td>-28.0</td>\n      <td>64.0</td>\n      <td>-23.0</td>\n      <td>-119.0</td>\n      <td>-20.0</td>\n      <td>72.0</td>\n      <td>...</td>\n      <td>-51.0</td>\n      <td>-34.0</td>\n      <td>-31.0</td>\n      <td>-28.0</td>\n      <td>-27.0</td>\n      <td>-33.0</td>\n      <td>-41.0</td>\n      <td>-38.0</td>\n      <td>-21.0</td>\n      <td>4.0</td>\n    </tr>\n    <tr>\n      <th>0</th>\n      <td>ch1</td>\n      <td>1_0,1</td>\n      <td>2000.0</td>\n      <td>103.0</td>\n      <td>74.0</td>\n      <td>-13.0</td>\n      <td>27.0</td>\n      <td>108.0</td>\n      <td>67.0</td>\n      <td>-20.0</td>\n      <td>...</td>\n      <td>-28.0</td>\n      <td>-20.0</td>\n      <td>-13.0</td>\n      <td>-27.0</td>\n      <td>-41.0</td>\n      <td>-28.0</td>\n      <td>-8.0</td>\n      <td>-8.0</td>\n      <td>-9.0</td>\n      <td>9.0</td>\n    </tr>\n    <tr>\n      <th>0</th>\n      <td>ch1</td>\n      <td>1_0,1</td>\n      <td>2000.0</td>\n      <td>-92.0</td>\n      <td>-7.0</td>\n      <td>74.0</td>\n      <td>-20.0</td>\n      <td>-104.0</td>\n      <td>3.0</td>\n      <td>82.0</td>\n      <td>...</td>\n      <td>-49.0</td>\n      <td>-35.0</td>\n      <td>-29.0</td>\n      <td>-28.0</td>\n      <td>-29.0</td>\n      <td>-31.0</td>\n      <td>-31.0</td>\n      <td>-30.0</td>\n      <td>-18.0</td>\n      <td>10.0</td>\n    </tr>\n    <tr>\n      <th>0</th>\n      <td>ch1</td>\n      <td>1_0,1</td>\n      <td>2000.0</td>\n      <td>-93.0</td>\n      <td>-66.0</td>\n      <td>18.0</td>\n      <td>-22.0</td>\n      <td>-110.0</td>\n      <td>-67.0</td>\n      <td>23.0</td>\n      <td>...</td>\n      <td>-54.0</td>\n      <td>-28.0</td>\n      <td>-29.0</td>\n      <td>-23.0</td>\n      <td>-15.0</td>\n      <td>-29.0</td>\n      <td>-49.0</td>\n      <td>-40.0</td>\n      <td>-14.0</td>\n      <td>0.0</td>\n    </tr>\n    <tr>\n      <th>...</th>\n      <td>...</td>\n      <td>...</td>\n      <td>...</td>\n      <td>...</td>\n      <td>...</td>\n      <td>...</td>\n      <td>...</td>\n      <td>...</td>\n      <td>...</td>\n      <td>...</td>\n      <td>...</td>\n      <td>...</td>\n      <td>...</td>\n      <td>...</td>\n      <td>...</td>\n      <td>...</td>\n      <td>...</td>\n      <td>...</td>\n      <td>...</td>\n      <td>...</td>\n      <td>...</td>\n    </tr>\n    <tr>\n      <th>0</th>\n      <td>ch2</td>\n      <td>3_6</td>\n      <td>2000.0</td>\n      <td>50.0</td>\n      <td>85.0</td>\n      <td>78.0</td>\n      <td>136.0</td>\n      <td>352.0</td>\n      <td>523.0</td>\n      <td>257.0</td>\n      <td>...</td>\n      <td>151.0</td>\n      <td>638.0</td>\n      <td>594.0</td>\n      <td>191.0</td>\n      <td>112.0</td>\n      <td>418.0</td>\n      <td>448.0</td>\n      <td>-69.0</td>\n      <td>-511.0</td>\n      <td>-345.0</td>\n    </tr>\n    <tr>\n      <th>0</th>\n      <td>ch2</td>\n      <td>3_6</td>\n      <td>2000.0</td>\n      <td>73.0</td>\n      <td>84.0</td>\n      <td>88.0</td>\n      <td>223.0</td>\n      <td>464.0</td>\n      <td>471.0</td>\n      <td>-45.0</td>\n      <td>...</td>\n      <td>423.0</td>\n      <td>701.0</td>\n      <td>411.0</td>\n      <td>89.0</td>\n      <td>240.0</td>\n      <td>498.0</td>\n      <td>241.0</td>\n      <td>-341.0</td>\n      <td>-505.0</td>\n      <td>-156.0</td>\n    </tr>\n    <tr>\n      <th>0</th>\n      <td>ch2</td>\n      <td>3_6</td>\n      <td>2000.0</td>\n      <td>77.0</td>\n      <td>82.0</td>\n      <td>95.0</td>\n      <td>248.0</td>\n      <td>485.0</td>\n      <td>444.0</td>\n      <td>-121.0</td>\n      <td>...</td>\n      <td>483.0</td>\n      <td>694.0</td>\n      <td>362.0</td>\n      <td>82.0</td>\n      <td>277.0</td>\n      <td>497.0</td>\n      <td>172.0</td>\n      <td>-399.0</td>\n      <td>-488.0</td>\n      <td>-121.0</td>\n    </tr>\n    <tr>\n      <th>0</th>\n      <td>ch2</td>\n      <td>3_6</td>\n      <td>2000.0</td>\n      <td>83.0</td>\n      <td>78.0</td>\n      <td>114.0</td>\n      <td>307.0</td>\n      <td>517.0</td>\n      <td>349.0</td>\n      <td>-316.0</td>\n      <td>...</td>\n      <td>592.0</td>\n      <td>647.0</td>\n      <td>257.0</td>\n      <td>95.0</td>\n      <td>366.0</td>\n      <td>468.0</td>\n      <td>8.0</td>\n      <td>-496.0</td>\n      <td>-414.0</td>\n      <td>-46.0</td>\n    </tr>\n    <tr>\n      <th>0</th>\n      <td>ch2</td>\n      <td>3_6</td>\n      <td>2000.0</td>\n      <td>83.0</td>\n      <td>81.0</td>\n      <td>97.0</td>\n      <td>267.0</td>\n      <td>499.0</td>\n      <td>412.0</td>\n      <td>-199.0</td>\n      <td>...</td>\n      <td>549.0</td>\n      <td>677.0</td>\n      <td>301.0</td>\n      <td>81.0</td>\n      <td>329.0</td>\n      <td>492.0</td>\n      <td>83.0</td>\n      <td>-465.0</td>\n      <td>-460.0</td>\n      <td>-81.0</td>\n    </tr>\n  </tbody>\n</table>\n<p>300 rows × 2003 columns</p>\n</div>"
     },
     "execution_count": 18,
     "metadata": {},
     "output_type": "execute_result"
    }
   ],
   "source": [
    "signals_data"
   ],
   "metadata": {
    "collapsed": false,
    "pycharm": {
     "name": "#%%\n"
    }
   }
  },
  {
   "cell_type": "code",
   "execution_count": 19,
   "outputs": [],
   "source": [
    "signals_data.to_csv(f'{exp_path}_signal_data.csv', index=None)"
   ],
   "metadata": {
    "collapsed": false,
    "pycharm": {
     "name": "#%%\n"
    }
   }
  },
  {
   "cell_type": "code",
   "execution_count": 20,
   "outputs": [
    {
     "data": {
      "text/plain": "    channel num_exp  count_dot      0     1      2      3      4      5  \\\n0       ch1   1_0,1     2000.0 -107.0 -55.0   38.0  -26.0 -124.0  -54.0   \n1       ch1   1_0,1     2000.0 -106.0 -28.0   64.0  -23.0 -119.0  -20.0   \n2       ch1   1_0,1     2000.0  103.0  74.0  -13.0   27.0  108.0   67.0   \n3       ch1   1_0,1     2000.0  -92.0  -7.0   74.0  -20.0 -104.0    3.0   \n4       ch1   1_0,1     2000.0  -93.0 -66.0   18.0  -22.0 -110.0  -67.0   \n..      ...     ...        ...    ...   ...    ...    ...    ...    ...   \n295     ch2     3_6     2000.0   50.0  85.0   78.0  136.0  352.0  523.0   \n296     ch2     3_6     2000.0   73.0  84.0   88.0  223.0  464.0  471.0   \n297     ch2     3_6     2000.0   77.0  82.0   95.0  248.0  485.0  444.0   \n298     ch2     3_6     2000.0   83.0  78.0  114.0  307.0  517.0  349.0   \n299     ch2     3_6     2000.0   83.0  81.0   97.0  267.0  499.0  412.0   \n\n         6  ...   1990   1991   1992   1993   1994   1995   1996   1997  \\\n0     46.0  ...  -53.0  -31.0  -31.0  -24.0  -19.0  -33.0  -50.0  -41.0   \n1     72.0  ...  -51.0  -34.0  -31.0  -28.0  -27.0  -33.0  -41.0  -38.0   \n2    -20.0  ...  -28.0  -20.0  -13.0  -27.0  -41.0  -28.0   -8.0   -8.0   \n3     82.0  ...  -49.0  -35.0  -29.0  -28.0  -29.0  -31.0  -31.0  -30.0   \n4     23.0  ...  -54.0  -28.0  -29.0  -23.0  -15.0  -29.0  -49.0  -40.0   \n..     ...  ...    ...    ...    ...    ...    ...    ...    ...    ...   \n295  257.0  ...  151.0  638.0  594.0  191.0  112.0  418.0  448.0  -69.0   \n296  -45.0  ...  423.0  701.0  411.0   89.0  240.0  498.0  241.0 -341.0   \n297 -121.0  ...  483.0  694.0  362.0   82.0  277.0  497.0  172.0 -399.0   \n298 -316.0  ...  592.0  647.0  257.0   95.0  366.0  468.0    8.0 -496.0   \n299 -199.0  ...  549.0  677.0  301.0   81.0  329.0  492.0   83.0 -465.0   \n\n      1998   1999  \n0    -16.0    1.0  \n1    -21.0    4.0  \n2     -9.0    9.0  \n3    -18.0   10.0  \n4    -14.0    0.0  \n..     ...    ...  \n295 -511.0 -345.0  \n296 -505.0 -156.0  \n297 -488.0 -121.0  \n298 -414.0  -46.0  \n299 -460.0  -81.0  \n\n[300 rows x 2003 columns]",
      "text/html": "<div>\n<style scoped>\n    .dataframe tbody tr th:only-of-type {\n        vertical-align: middle;\n    }\n\n    .dataframe tbody tr th {\n        vertical-align: top;\n    }\n\n    .dataframe thead th {\n        text-align: right;\n    }\n</style>\n<table border=\"1\" class=\"dataframe\">\n  <thead>\n    <tr style=\"text-align: right;\">\n      <th></th>\n      <th>channel</th>\n      <th>num_exp</th>\n      <th>count_dot</th>\n      <th>0</th>\n      <th>1</th>\n      <th>2</th>\n      <th>3</th>\n      <th>4</th>\n      <th>5</th>\n      <th>6</th>\n      <th>...</th>\n      <th>1990</th>\n      <th>1991</th>\n      <th>1992</th>\n      <th>1993</th>\n      <th>1994</th>\n      <th>1995</th>\n      <th>1996</th>\n      <th>1997</th>\n      <th>1998</th>\n      <th>1999</th>\n    </tr>\n  </thead>\n  <tbody>\n    <tr>\n      <th>0</th>\n      <td>ch1</td>\n      <td>1_0,1</td>\n      <td>2000.0</td>\n      <td>-107.0</td>\n      <td>-55.0</td>\n      <td>38.0</td>\n      <td>-26.0</td>\n      <td>-124.0</td>\n      <td>-54.0</td>\n      <td>46.0</td>\n      <td>...</td>\n      <td>-53.0</td>\n      <td>-31.0</td>\n      <td>-31.0</td>\n      <td>-24.0</td>\n      <td>-19.0</td>\n      <td>-33.0</td>\n      <td>-50.0</td>\n      <td>-41.0</td>\n      <td>-16.0</td>\n      <td>1.0</td>\n    </tr>\n    <tr>\n      <th>1</th>\n      <td>ch1</td>\n      <td>1_0,1</td>\n      <td>2000.0</td>\n      <td>-106.0</td>\n      <td>-28.0</td>\n      <td>64.0</td>\n      <td>-23.0</td>\n      <td>-119.0</td>\n      <td>-20.0</td>\n      <td>72.0</td>\n      <td>...</td>\n      <td>-51.0</td>\n      <td>-34.0</td>\n      <td>-31.0</td>\n      <td>-28.0</td>\n      <td>-27.0</td>\n      <td>-33.0</td>\n      <td>-41.0</td>\n      <td>-38.0</td>\n      <td>-21.0</td>\n      <td>4.0</td>\n    </tr>\n    <tr>\n      <th>2</th>\n      <td>ch1</td>\n      <td>1_0,1</td>\n      <td>2000.0</td>\n      <td>103.0</td>\n      <td>74.0</td>\n      <td>-13.0</td>\n      <td>27.0</td>\n      <td>108.0</td>\n      <td>67.0</td>\n      <td>-20.0</td>\n      <td>...</td>\n      <td>-28.0</td>\n      <td>-20.0</td>\n      <td>-13.0</td>\n      <td>-27.0</td>\n      <td>-41.0</td>\n      <td>-28.0</td>\n      <td>-8.0</td>\n      <td>-8.0</td>\n      <td>-9.0</td>\n      <td>9.0</td>\n    </tr>\n    <tr>\n      <th>3</th>\n      <td>ch1</td>\n      <td>1_0,1</td>\n      <td>2000.0</td>\n      <td>-92.0</td>\n      <td>-7.0</td>\n      <td>74.0</td>\n      <td>-20.0</td>\n      <td>-104.0</td>\n      <td>3.0</td>\n      <td>82.0</td>\n      <td>...</td>\n      <td>-49.0</td>\n      <td>-35.0</td>\n      <td>-29.0</td>\n      <td>-28.0</td>\n      <td>-29.0</td>\n      <td>-31.0</td>\n      <td>-31.0</td>\n      <td>-30.0</td>\n      <td>-18.0</td>\n      <td>10.0</td>\n    </tr>\n    <tr>\n      <th>4</th>\n      <td>ch1</td>\n      <td>1_0,1</td>\n      <td>2000.0</td>\n      <td>-93.0</td>\n      <td>-66.0</td>\n      <td>18.0</td>\n      <td>-22.0</td>\n      <td>-110.0</td>\n      <td>-67.0</td>\n      <td>23.0</td>\n      <td>...</td>\n      <td>-54.0</td>\n      <td>-28.0</td>\n      <td>-29.0</td>\n      <td>-23.0</td>\n      <td>-15.0</td>\n      <td>-29.0</td>\n      <td>-49.0</td>\n      <td>-40.0</td>\n      <td>-14.0</td>\n      <td>0.0</td>\n    </tr>\n    <tr>\n      <th>...</th>\n      <td>...</td>\n      <td>...</td>\n      <td>...</td>\n      <td>...</td>\n      <td>...</td>\n      <td>...</td>\n      <td>...</td>\n      <td>...</td>\n      <td>...</td>\n      <td>...</td>\n      <td>...</td>\n      <td>...</td>\n      <td>...</td>\n      <td>...</td>\n      <td>...</td>\n      <td>...</td>\n      <td>...</td>\n      <td>...</td>\n      <td>...</td>\n      <td>...</td>\n      <td>...</td>\n    </tr>\n    <tr>\n      <th>295</th>\n      <td>ch2</td>\n      <td>3_6</td>\n      <td>2000.0</td>\n      <td>50.0</td>\n      <td>85.0</td>\n      <td>78.0</td>\n      <td>136.0</td>\n      <td>352.0</td>\n      <td>523.0</td>\n      <td>257.0</td>\n      <td>...</td>\n      <td>151.0</td>\n      <td>638.0</td>\n      <td>594.0</td>\n      <td>191.0</td>\n      <td>112.0</td>\n      <td>418.0</td>\n      <td>448.0</td>\n      <td>-69.0</td>\n      <td>-511.0</td>\n      <td>-345.0</td>\n    </tr>\n    <tr>\n      <th>296</th>\n      <td>ch2</td>\n      <td>3_6</td>\n      <td>2000.0</td>\n      <td>73.0</td>\n      <td>84.0</td>\n      <td>88.0</td>\n      <td>223.0</td>\n      <td>464.0</td>\n      <td>471.0</td>\n      <td>-45.0</td>\n      <td>...</td>\n      <td>423.0</td>\n      <td>701.0</td>\n      <td>411.0</td>\n      <td>89.0</td>\n      <td>240.0</td>\n      <td>498.0</td>\n      <td>241.0</td>\n      <td>-341.0</td>\n      <td>-505.0</td>\n      <td>-156.0</td>\n    </tr>\n    <tr>\n      <th>297</th>\n      <td>ch2</td>\n      <td>3_6</td>\n      <td>2000.0</td>\n      <td>77.0</td>\n      <td>82.0</td>\n      <td>95.0</td>\n      <td>248.0</td>\n      <td>485.0</td>\n      <td>444.0</td>\n      <td>-121.0</td>\n      <td>...</td>\n      <td>483.0</td>\n      <td>694.0</td>\n      <td>362.0</td>\n      <td>82.0</td>\n      <td>277.0</td>\n      <td>497.0</td>\n      <td>172.0</td>\n      <td>-399.0</td>\n      <td>-488.0</td>\n      <td>-121.0</td>\n    </tr>\n    <tr>\n      <th>298</th>\n      <td>ch2</td>\n      <td>3_6</td>\n      <td>2000.0</td>\n      <td>83.0</td>\n      <td>78.0</td>\n      <td>114.0</td>\n      <td>307.0</td>\n      <td>517.0</td>\n      <td>349.0</td>\n      <td>-316.0</td>\n      <td>...</td>\n      <td>592.0</td>\n      <td>647.0</td>\n      <td>257.0</td>\n      <td>95.0</td>\n      <td>366.0</td>\n      <td>468.0</td>\n      <td>8.0</td>\n      <td>-496.0</td>\n      <td>-414.0</td>\n      <td>-46.0</td>\n    </tr>\n    <tr>\n      <th>299</th>\n      <td>ch2</td>\n      <td>3_6</td>\n      <td>2000.0</td>\n      <td>83.0</td>\n      <td>81.0</td>\n      <td>97.0</td>\n      <td>267.0</td>\n      <td>499.0</td>\n      <td>412.0</td>\n      <td>-199.0</td>\n      <td>...</td>\n      <td>549.0</td>\n      <td>677.0</td>\n      <td>301.0</td>\n      <td>81.0</td>\n      <td>329.0</td>\n      <td>492.0</td>\n      <td>83.0</td>\n      <td>-465.0</td>\n      <td>-460.0</td>\n      <td>-81.0</td>\n    </tr>\n  </tbody>\n</table>\n<p>300 rows × 2003 columns</p>\n</div>"
     },
     "execution_count": 20,
     "metadata": {},
     "output_type": "execute_result"
    }
   ],
   "source": [
    "signals = pd.read_csv(f'{exp_path}_signal_data.csv',)\n",
    "signals"
   ],
   "metadata": {
    "collapsed": false,
    "pycharm": {
     "name": "#%%\n"
    }
   }
  },
  {
   "cell_type": "code",
   "execution_count": null,
   "outputs": [],
   "source": [],
   "metadata": {
    "collapsed": false,
    "pycharm": {
     "name": "#%%\n"
    }
   }
  }
 ],
 "metadata": {
  "kernelspec": {
   "display_name": "Python 3",
   "language": "python",
   "name": "python3"
  },
  "language_info": {
   "codemirror_mode": {
    "name": "ipython",
    "version": 2
   },
   "file_extension": ".py",
   "mimetype": "text/x-python",
   "name": "python",
   "nbconvert_exporter": "python",
   "pygments_lexer": "ipython2",
   "version": "2.7.6"
  }
 },
 "nbformat": 4,
 "nbformat_minor": 0
}